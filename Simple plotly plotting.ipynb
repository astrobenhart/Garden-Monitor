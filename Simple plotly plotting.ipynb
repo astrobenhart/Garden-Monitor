{
 "cells": [
  {
   "cell_type": "code",
   "execution_count": 2,
   "metadata": {},
   "outputs": [],
   "source": [
    "import sqlite3\n",
    "import matplotlib.pyplot as plt\n",
    "import pandas as pd\n",
    "from tqdm import tqdm\n",
    "import cufflinks as cf\n",
    "import plotly\n",
    "import plotly.offline as py\n",
    "import plotly.graph_objs as go"
   ]
  },
  {
   "cell_type": "code",
   "execution_count": 3,
   "metadata": {},
   "outputs": [],
   "source": [
    "conn = sqlite3.connect('data.db')"
   ]
  },
  {
   "cell_type": "code",
   "execution_count": 4,
   "metadata": {},
   "outputs": [],
   "source": [
    "sql_q = ('select * from from_nano;')\n",
    "df = pd.read_sql(sql_q, conn)"
   ]
  },
  {
   "cell_type": "code",
   "execution_count": 5,
   "metadata": {},
   "outputs": [],
   "source": [
    "df.datatime = pd.to_datetime(df.datatime)\n",
    "df = df.set_index('datatime')"
   ]
  },
  {
   "cell_type": "code",
   "execution_count": 6,
   "metadata": {},
   "outputs": [],
   "source": [
    "def clean_db(df):\n",
    "    for i in tqdm(range(len(df.columns))):\n",
    "        if i == 4:\n",
    "            for j in range(len(df.iloc[:,i])):\n",
    "                if not 100000 < float(df.iloc[j,i]) < 150000:\n",
    "                    df.iloc[j,i] = df.iloc[j-1,i]\n",
    "        else:\n",
    "            for j in range(len(df.iloc[:,i])):\n",
    "                if not 0 < float(df.iloc[j,i]) < 100:\n",
    "                    df.iloc[j,i] = df.iloc[j-1,i]\n",
    "    return df\n",
    "                "
   ]
  },
  {
   "cell_type": "code",
   "execution_count": 7,
   "metadata": {},
   "outputs": [
    {
     "name": "stderr",
     "output_type": "stream",
     "text": [
      "100%|████████████████████████████████████████████████████████████████████████████████████| 8/8 [00:00<00:00, 32.62it/s]\n"
     ]
    }
   ],
   "source": [
    "df = clean_db(df)"
   ]
  },
  {
   "cell_type": "code",
   "execution_count": 10,
   "metadata": {},
   "outputs": [],
   "source": [
    "color1 = '#9467bd'\n",
    "color2 = '#F08B00'\n",
    "\n",
    "df2 = df[df.index > '2020-05-21 12:00:00']\n",
    "\n",
    "trace1 = go.Scatter(\n",
    "    x = df2.index,\n",
    "    y = df2['air_temp1'],\n",
    "    name='Air Temp',\n",
    "    line = dict(\n",
    "        color = color1\n",
    "    )\n",
    ")\n",
    "trace2 = go.Scatter(\n",
    "    x = df2.index,\n",
    "    y = df2['soil_temp'] ,\n",
    "    name='Soil Temp',\n",
    "    yaxis='y3',\n",
    "    line = dict(\n",
    "        color = color2\n",
    "    )\n",
    ")\n",
    "\n",
    "data = [trace1,trace2]\n",
    "layout = go.Layout(\n",
    "    title= \"Tempreture\",\n",
    "    yaxis=dict(\n",
    "        title='Air Temp (C)',\n",
    "        titlefont=dict(\n",
    "            color=color1\n",
    "        ),\n",
    "        tickfont=dict(\n",
    "            color=color1\n",
    "        )\n",
    "    ),\n",
    "    \n",
    "#     yaxis2=dict(\n",
    "#         title='Temp2',\n",
    "#         overlaying='y',\n",
    "#         side='right',\n",
    "#         titlefont=dict(\n",
    "#             color=color2\n",
    "#         ),\n",
    "#         tickfont=dict(\n",
    "#             color=color2\n",
    "#         )\n",
    "\n",
    "#     ),\n",
    "    \n",
    "    yaxis3=dict(\n",
    "        title='Soil Temp (C)',\n",
    "        overlaying='y',\n",
    "        side='right',\n",
    "        titlefont=dict(\n",
    "            color=color2\n",
    "        ),\n",
    "        tickfont=dict(\n",
    "            color=color2\n",
    "        )\n",
    "\n",
    "    )\n",
    "\n",
    ")\n",
    "fig = go.Figure(data=data, layout=layout)\n",
    "# fig.open()\n",
    "# plot_url = py.iplot(fig)\n",
    "# plot_url.show()"
   ]
  },
  {
   "cell_type": "code",
   "execution_count": 11,
   "metadata": {},
   "outputs": [],
   "source": [
    "fig.write_image('fig.png')"
   ]
  }
 ],
 "metadata": {
  "kernelspec": {
   "display_name": "Python 3",
   "language": "python",
   "name": "python3"
  },
  "language_info": {
   "codemirror_mode": {
    "name": "ipython",
    "version": 3
   },
   "file_extension": ".py",
   "mimetype": "text/x-python",
   "name": "python",
   "nbconvert_exporter": "python",
   "pygments_lexer": "ipython3",
   "version": "3.7.6"
  }
 },
 "nbformat": 4,
 "nbformat_minor": 4
}
