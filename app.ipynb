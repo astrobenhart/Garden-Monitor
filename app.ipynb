{
 "cells": [
  {
   "cell_type": "code",
   "execution_count": 49,
   "metadata": {},
   "outputs": [],
   "source": [
    "import sqlite3\n",
    "import matplotlib.pyplot as plt\n",
    "import pandas as pd\n",
    "from tqdm import tqdm\n",
    "from datetime import datetime, timedelta\n",
    "import cufflinks as cf\n",
    "import plotly\n",
    "import plotly.offline as py\n",
    "import plotly.graph_objs as go\n",
    "import plotly.subplots as ps\n",
    "import dash\n",
    "import dash_core_components as dcc\n",
    "import dash_bootstrap_components as dbc\n",
    "import dash.dependencies as dd\n",
    "import dash_html_components as html\n",
    "import pandas as pd"
   ]
  },
  {
   "cell_type": "code",
   "execution_count": 32,
   "metadata": {},
   "outputs": [],
   "source": [
    "def clean_db(df):\n",
    "    for i in tqdm(range(len(df.columns))):\n",
    "        if i == 4:\n",
    "            for j in range(len(df.iloc[:,i])):\n",
    "                if not 100000 < float(df.iloc[j,i]) < 150000:\n",
    "                    df.iloc[j,i] = df.iloc[j-1,i]\n",
    "        else:\n",
    "            for j in range(len(df.iloc[:,i])):\n",
    "                if not 0 < float(df.iloc[j,i]) < 100:\n",
    "                    df.iloc[j,i] = df.iloc[j-1,i]\n",
    "    return df"
   ]
  },
  {
   "cell_type": "code",
   "execution_count": 33,
   "metadata": {},
   "outputs": [],
   "source": [
    "conn = sqlite3.connect('data.db')"
   ]
  },
  {
   "cell_type": "code",
   "execution_count": 52,
   "metadata": {},
   "outputs": [],
   "source": [
    "sql_q = ('select * from from_nano;')\n",
    "df = pd.read_sql(sql_q, conn)\n",
    "df.datatime = pd.to_datetime(df.datatime)\n",
    "df = df.set_index('datatime')"
   ]
  },
  {
   "cell_type": "code",
   "execution_count": 53,
   "metadata": {},
   "outputs": [
    {
     "name": "stderr",
     "output_type": "stream",
     "text": [
      "100%|████████████████████████████████████████████████████████████████████████████████████| 8/8 [00:00<00:00, 96.64it/s]\n"
     ]
    }
   ],
   "source": [
    "df = clean_db(df)"
   ]
  },
  {
   "cell_type": "code",
   "execution_count": 54,
   "metadata": {},
   "outputs": [],
   "source": [
    "app = dash.Dash(__name__, external_stylesheets=[dbc.themes.BOOTSTRAP])\n",
    "server = app.server\n",
    "app.config.suppress_callback_exceptions = True"
   ]
  },
  {
   "cell_type": "code",
   "execution_count": 79,
   "metadata": {},
   "outputs": [],
   "source": [
    "def Temp_trace(df, start_date = datetime.now() - timedelta(days=2), end_date = datetime.now(), color1 = '#9467bd'):\n",
    "    conn = sqlite3.connect('data.db')\n",
    "    sql_q = ('select * from from_nano;')\n",
    "    df = pd.read_sql(sql_q, conn)\n",
    "    df.datatime = pd.to_datetime(df.datatime)\n",
    "    df = df.set_index('datatime')\n",
    "    df = clean_db(df)\n",
    "    df = df[(df.index>=start_date) & (df.index<=end_date)]\n",
    "    \n",
    "    TempChart = ps.make_subplots(specs=[[{\"secondary_y\": True}]])\n",
    "    \n",
    "    TempChart.add_scatter(x=df.index, y=df.air_temp1, mode=\"lines\", name=\"Air Temperature\")\n",
    "    TempChart.add_scatter(x=df.index, y=df.soil_temp, mode=\"lines\", name=\"Soil Temperature\")\n",
    "    \n",
    "    TempChart.update_layout(\n",
    "        title='Temperature Over Time',\n",
    "        yaxis_title='Temp (C)',\n",
    "        # xaxis_title='Date',\n",
    "        legend=dict(\n",
    "            orientation=\"h\"\n",
    "        )\n",
    "    )\n",
    "    Charts = [\n",
    "        dcc.Graph(style={'height': 600, 'width': 1200, 'display': 'inline-block', 'vertical-align': 'middle'},\n",
    "                  figure=TempChart)]\n",
    "        \n",
    "    return Charts"
   ]
  },
  {
   "cell_type": "code",
   "execution_count": 86,
   "metadata": {},
   "outputs": [
    {
     "name": "stderr",
     "output_type": "stream",
     "text": [
      "100%|████████████████████████████████████████████████████████████████████████████████████| 8/8 [00:00<00:00, 96.60it/s]\n"
     ]
    }
   ],
   "source": [
    "initial_start_date = datetime.now() - timedelta(days=2)\n",
    "initial_end_date = datetime.now()\n",
    "\n",
    "TempPlots = dbc.Container([\n",
    "#     dbc.Row([\n",
    "#         dbc.Col([\n",
    "#             html.P('Date Range Slider'),\n",
    "#             dcc.DatePickerRange(\n",
    "#                 id='dateRange',\n",
    "#                 min_date_allowed=df.index.min(),\n",
    "#                 max_date_allowed=df.index.max(),\n",
    "#                 start_date=initial_start_date,\n",
    "#                 display_format='DD/MM/Y',\n",
    "#                 end_date=initial_end_date)\n",
    "#         ]),\n",
    "#     ]),\n",
    "    dbc.Row([\n",
    "        dcc.Loading(type='graph', id='TempOutput', \n",
    "            children=Temp_trace(\n",
    "                df,\n",
    "                initial_start_date,\n",
    "                initial_end_date\n",
    "            ),\n",
    "        style={'width': '100%'}\n",
    "        )\n",
    "    ]) \n",
    "], className=\"mt-4\")"
   ]
  },
  {
   "cell_type": "code",
   "execution_count": 87,
   "metadata": {},
   "outputs": [],
   "source": [
    "navbar_item_width = 9\n",
    "\n",
    "navbar = dbc.NavbarSimple(\n",
    "    children=[\n",
    "        dbc.Row([\n",
    "            dbc.Col([\n",
    "                dbc.NavItem(dbc.NavLink(\"Temperature\", href=\"/temperatures\",\n",
    "                                        style={'width': 19*navbar_item_width, 'display': 'inline-block'}))\n",
    "            ]),\n",
    "            dbc.Col([\n",
    "                dbc.NavItem(dbc.NavLink(\"Store Level\", href=\"/store_level\",\n",
    "                                        style={'width': 11*navbar_item_width, 'display': 'inline-block'})),\n",
    "            ]),\n",
    "            dbc.Col([\n",
    "                dbc.NavItem(dbc.NavLink(\"Employee Shortfall\", href=\"/employee_shortfall\",\n",
    "                                        style={'width': 18*navbar_item_width, 'display': 'inline-block'})),\n",
    "            ]),\n",
    "            dbc.Col([\n",
    "                dbc.NavItem(dbc.NavLink(\"Appendix\", href=\"/Appendix\",\n",
    "                                        style={'width': 8*navbar_item_width, 'display': 'inline-block'}))\n",
    "            ])\n",
    "        ])\n",
    "    ],\n",
    "    brand=\"Garden Monitor\",\n",
    "    sticky=\"top\",\n",
    "    expand='lg',\n",
    "    light=True\n",
    ")"
   ]
  },
  {
   "cell_type": "code",
   "execution_count": 88,
   "metadata": {},
   "outputs": [],
   "source": [
    "app.layout = html.Div([dcc.Location(id='url', refresh=False), navbar, html.Div(id='page-content')])"
   ]
  },
  {
   "cell_type": "code",
   "execution_count": 89,
   "metadata": {},
   "outputs": [],
   "source": [
    "@app.callback(dd.Output('TempOutput', 'children'), [  \n",
    "                                                        dd.Input('dateRange', 'start_date'),\n",
    "                                                        dd.Input('dateRange', 'end_date'),\n",
    "                                                    ])\n",
    "def _drawTempPlots(start_date, end_date):\n",
    "    return Temp_trace(df, start_date=start_date, end_date=end_date)"
   ]
  },
  {
   "cell_type": "code",
   "execution_count": 90,
   "metadata": {},
   "outputs": [],
   "source": [
    "@app.callback(dd.Output('page-content', 'children'), [dd.Input('url', 'pathname')])\n",
    "def display_page(pathname):\n",
    "    if str(pathname).lower() == '/temperatures':\n",
    "        return TempPlots\n",
    "    elif str(pathname).lower() == '/':\n",
    "        return TempPlots\n",
    "#     elif str(pathname).lower() == '/store_level':\n",
    "#         return StoreLevel\n",
    "#     elif str(pathname).lower() == '/employee_shortfall':\n",
    "#         return EmployeeShortFall\n",
    "#     elif str(pathname).lower() == '/appendix':\n",
    "#         return Appendix\n",
    "    else:\n",
    "        return fl.abort(404)"
   ]
  },
  {
   "cell_type": "code",
   "execution_count": 97,
   "metadata": {},
   "outputs": [
    {
     "name": "stdout",
     "output_type": "stream",
     "text": [
      "Running on http://0.0.0.0:5001/\n",
      "Running on http://0.0.0.0:5001/\n",
      "Running on http://0.0.0.0:5001/\n",
      "Running on http://0.0.0.0:5001/\n",
      "Running on http://0.0.0.0:5001/\n",
      "Debugger PIN: 794-029-470\n",
      "Debugger PIN: 794-029-470\n",
      "Debugger PIN: 794-029-470\n",
      "Debugger PIN: 794-029-470\n",
      "Debugger PIN: 794-029-470\n",
      " * Serving Flask app \"__main__\" (lazy loading)\n",
      " * Environment: production\n",
      "   WARNING: This is a development server. Do not use it in a production deployment.\n",
      "   Use a production WSGI server instead.\n",
      " * Debug mode: on\n"
     ]
    },
    {
     "ename": "SystemExit",
     "evalue": "1",
     "output_type": "error",
     "traceback": [
      "An exception has occurred, use %tb to see the full traceback.\n",
      "\u001b[1;31mSystemExit\u001b[0m\u001b[1;31m:\u001b[0m 1\n"
     ]
    }
   ],
   "source": [
    "if __name__ == \"__main__\":\n",
    "    app.run_server(debug=True, port=5001, host='0.0.0.0')"
   ]
  },
  {
   "cell_type": "code",
   "execution_count": 98,
   "metadata": {},
   "outputs": [
    {
     "ename": "SystemExit",
     "evalue": "1",
     "output_type": "error",
     "traceback": [
      "\u001b[1;31m---------------------------------------------------------------------------\u001b[0m",
      "\u001b[1;31mSystemExit\u001b[0m                                Traceback (most recent call last)",
      "\u001b[1;32m<ipython-input-97-5013395f9284>\u001b[0m in \u001b[0;36m<module>\u001b[1;34m\u001b[0m\n\u001b[0;32m      1\u001b[0m \u001b[1;32mif\u001b[0m \u001b[0m__name__\u001b[0m \u001b[1;33m==\u001b[0m \u001b[1;34m\"__main__\"\u001b[0m\u001b[1;33m:\u001b[0m\u001b[1;33m\u001b[0m\u001b[1;33m\u001b[0m\u001b[0m\n\u001b[1;32m----> 2\u001b[1;33m     \u001b[0mapp\u001b[0m\u001b[1;33m.\u001b[0m\u001b[0mrun_server\u001b[0m\u001b[1;33m(\u001b[0m\u001b[0mdebug\u001b[0m\u001b[1;33m=\u001b[0m\u001b[1;32mTrue\u001b[0m\u001b[1;33m,\u001b[0m \u001b[0mport\u001b[0m\u001b[1;33m=\u001b[0m\u001b[1;36m5001\u001b[0m\u001b[1;33m,\u001b[0m \u001b[0mhost\u001b[0m\u001b[1;33m=\u001b[0m\u001b[1;34m'0.0.0.0'\u001b[0m\u001b[1;33m)\u001b[0m\u001b[1;33m\u001b[0m\u001b[1;33m\u001b[0m\u001b[0m\n\u001b[0m",
      "\u001b[1;32m~\\anaconda3\\lib\\site-packages\\dash\\dash.py\u001b[0m in \u001b[0;36mrun_server\u001b[1;34m(self, host, port, debug, dev_tools_ui, dev_tools_props_check, dev_tools_serve_dev_bundles, dev_tools_hot_reload, dev_tools_hot_reload_interval, dev_tools_hot_reload_watch_interval, dev_tools_hot_reload_max_retry, dev_tools_silence_routes_logging, dev_tools_prune_errors, **flask_run_options)\u001b[0m\n\u001b[0;32m   1572\u001b[0m             \u001b[0mself\u001b[0m\u001b[1;33m.\u001b[0m\u001b[0mlogger\u001b[0m\u001b[1;33m.\u001b[0m\u001b[0minfo\u001b[0m\u001b[1;33m(\u001b[0m\u001b[1;34m\"Debugger PIN: %s\"\u001b[0m\u001b[1;33m,\u001b[0m \u001b[0mdebugger_pin\u001b[0m\u001b[1;33m)\u001b[0m\u001b[1;33m\u001b[0m\u001b[1;33m\u001b[0m\u001b[0m\n\u001b[0;32m   1573\u001b[0m \u001b[1;33m\u001b[0m\u001b[0m\n\u001b[1;32m-> 1574\u001b[1;33m         \u001b[0mself\u001b[0m\u001b[1;33m.\u001b[0m\u001b[0mserver\u001b[0m\u001b[1;33m.\u001b[0m\u001b[0mrun\u001b[0m\u001b[1;33m(\u001b[0m\u001b[0mhost\u001b[0m\u001b[1;33m=\u001b[0m\u001b[0mhost\u001b[0m\u001b[1;33m,\u001b[0m \u001b[0mport\u001b[0m\u001b[1;33m=\u001b[0m\u001b[0mport\u001b[0m\u001b[1;33m,\u001b[0m \u001b[0mdebug\u001b[0m\u001b[1;33m=\u001b[0m\u001b[0mdebug\u001b[0m\u001b[1;33m,\u001b[0m \u001b[1;33m**\u001b[0m\u001b[0mflask_run_options\u001b[0m\u001b[1;33m)\u001b[0m\u001b[1;33m\u001b[0m\u001b[1;33m\u001b[0m\u001b[0m\n\u001b[0m",
      "\u001b[1;32m~\\anaconda3\\lib\\site-packages\\flask\\app.py\u001b[0m in \u001b[0;36mrun\u001b[1;34m(self, host, port, debug, load_dotenv, **options)\u001b[0m\n\u001b[0;32m    988\u001b[0m \u001b[1;33m\u001b[0m\u001b[0m\n\u001b[0;32m    989\u001b[0m         \u001b[1;32mtry\u001b[0m\u001b[1;33m:\u001b[0m\u001b[1;33m\u001b[0m\u001b[1;33m\u001b[0m\u001b[0m\n\u001b[1;32m--> 990\u001b[1;33m             \u001b[0mrun_simple\u001b[0m\u001b[1;33m(\u001b[0m\u001b[0mhost\u001b[0m\u001b[1;33m,\u001b[0m \u001b[0mport\u001b[0m\u001b[1;33m,\u001b[0m \u001b[0mself\u001b[0m\u001b[1;33m,\u001b[0m \u001b[1;33m**\u001b[0m\u001b[0moptions\u001b[0m\u001b[1;33m)\u001b[0m\u001b[1;33m\u001b[0m\u001b[1;33m\u001b[0m\u001b[0m\n\u001b[0m\u001b[0;32m    991\u001b[0m         \u001b[1;32mfinally\u001b[0m\u001b[1;33m:\u001b[0m\u001b[1;33m\u001b[0m\u001b[1;33m\u001b[0m\u001b[0m\n\u001b[0;32m    992\u001b[0m             \u001b[1;31m# reset the first request information if the development server\u001b[0m\u001b[1;33m\u001b[0m\u001b[1;33m\u001b[0m\u001b[1;33m\u001b[0m\u001b[0m\n",
      "\u001b[1;32m~\\anaconda3\\lib\\site-packages\\werkzeug\\serving.py\u001b[0m in \u001b[0;36mrun_simple\u001b[1;34m(hostname, port, application, use_reloader, use_debugger, use_evalex, extra_files, reloader_interval, reloader_type, threaded, processes, request_handler, static_files, passthrough_errors, ssl_context)\u001b[0m\n\u001b[0;32m   1048\u001b[0m         \u001b[1;32mfrom\u001b[0m \u001b[1;33m.\u001b[0m\u001b[0m_reloader\u001b[0m \u001b[1;32mimport\u001b[0m \u001b[0mrun_with_reloader\u001b[0m\u001b[1;33m\u001b[0m\u001b[1;33m\u001b[0m\u001b[0m\n\u001b[0;32m   1049\u001b[0m \u001b[1;33m\u001b[0m\u001b[0m\n\u001b[1;32m-> 1050\u001b[1;33m         \u001b[0mrun_with_reloader\u001b[0m\u001b[1;33m(\u001b[0m\u001b[0minner\u001b[0m\u001b[1;33m,\u001b[0m \u001b[0mextra_files\u001b[0m\u001b[1;33m,\u001b[0m \u001b[0mreloader_interval\u001b[0m\u001b[1;33m,\u001b[0m \u001b[0mreloader_type\u001b[0m\u001b[1;33m)\u001b[0m\u001b[1;33m\u001b[0m\u001b[1;33m\u001b[0m\u001b[0m\n\u001b[0m\u001b[0;32m   1051\u001b[0m     \u001b[1;32melse\u001b[0m\u001b[1;33m:\u001b[0m\u001b[1;33m\u001b[0m\u001b[1;33m\u001b[0m\u001b[0m\n\u001b[0;32m   1052\u001b[0m         \u001b[0minner\u001b[0m\u001b[1;33m(\u001b[0m\u001b[1;33m)\u001b[0m\u001b[1;33m\u001b[0m\u001b[1;33m\u001b[0m\u001b[0m\n",
      "\u001b[1;32m~\\anaconda3\\lib\\site-packages\\werkzeug\\_reloader.py\u001b[0m in \u001b[0;36mrun_with_reloader\u001b[1;34m(main_func, extra_files, interval, reloader_type)\u001b[0m\n\u001b[0;32m    337\u001b[0m             \u001b[0mreloader\u001b[0m\u001b[1;33m.\u001b[0m\u001b[0mrun\u001b[0m\u001b[1;33m(\u001b[0m\u001b[1;33m)\u001b[0m\u001b[1;33m\u001b[0m\u001b[1;33m\u001b[0m\u001b[0m\n\u001b[0;32m    338\u001b[0m         \u001b[1;32melse\u001b[0m\u001b[1;33m:\u001b[0m\u001b[1;33m\u001b[0m\u001b[1;33m\u001b[0m\u001b[0m\n\u001b[1;32m--> 339\u001b[1;33m             \u001b[0msys\u001b[0m\u001b[1;33m.\u001b[0m\u001b[0mexit\u001b[0m\u001b[1;33m(\u001b[0m\u001b[0mreloader\u001b[0m\u001b[1;33m.\u001b[0m\u001b[0mrestart_with_reloader\u001b[0m\u001b[1;33m(\u001b[0m\u001b[1;33m)\u001b[0m\u001b[1;33m)\u001b[0m\u001b[1;33m\u001b[0m\u001b[1;33m\u001b[0m\u001b[0m\n\u001b[0m\u001b[0;32m    340\u001b[0m     \u001b[1;32mexcept\u001b[0m \u001b[0mKeyboardInterrupt\u001b[0m\u001b[1;33m:\u001b[0m\u001b[1;33m\u001b[0m\u001b[1;33m\u001b[0m\u001b[0m\n\u001b[0;32m    341\u001b[0m         \u001b[1;32mpass\u001b[0m\u001b[1;33m\u001b[0m\u001b[1;33m\u001b[0m\u001b[0m\n",
      "\u001b[1;31mSystemExit\u001b[0m: 1"
     ]
    }
   ],
   "source": [
    "%tb"
   ]
  },
  {
   "cell_type": "code",
   "execution_count": null,
   "metadata": {},
   "outputs": [],
   "source": []
  }
 ],
 "metadata": {
  "kernelspec": {
   "display_name": "Python 3",
   "language": "python",
   "name": "python3"
  },
  "language_info": {
   "codemirror_mode": {
    "name": "ipython",
    "version": 3
   },
   "file_extension": ".py",
   "mimetype": "text/x-python",
   "name": "python",
   "nbconvert_exporter": "python",
   "pygments_lexer": "ipython3",
   "version": "3.7.6"
  }
 },
 "nbformat": 4,
 "nbformat_minor": 4
}
